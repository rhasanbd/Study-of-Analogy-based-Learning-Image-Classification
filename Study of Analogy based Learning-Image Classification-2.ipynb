{
 "cells": [
  {
   "cell_type": "markdown",
   "metadata": {},
   "source": [
    "# Study of Analogy based Learning - Image Classification\n",
    "\n",
    "\n",
    "In this notebook, we perform the following task.\n",
    "\n",
    "- Task 2: Compute the Euclidean Distance between an Image and Its Augmented Versions\n"
   ]
  },
  {
   "cell_type": "code",
   "execution_count": 1,
   "metadata": {},
   "outputs": [],
   "source": [
    "import time\n",
    "import numpy as np\n",
    "import matplotlib.pyplot as plt\n",
    "import matplotlib as mpl\n",
    "from sklearn.preprocessing import MinMaxScaler\n",
    "from matplotlib.offsetbox import AnnotationBbox, OffsetImage\n",
    "\n",
    "from sklearn.metrics.pairwise import euclidean_distances\n",
    "\n",
    "from scipy.ndimage.interpolation import shift, rotate\n",
    "\n",
    "from tensorflow import keras"
   ]
  },
  {
   "cell_type": "markdown",
   "metadata": {},
   "source": [
    "## MNIST\n",
    "\n",
    "We directly load the MNIST dataset using the Keras API:\n",
    "https://keras.io/api/datasets/mnist/\n",
    "\n",
    "The train set contains 60,000 images, and the test set contains 10,000 images."
   ]
  },
  {
   "cell_type": "code",
   "execution_count": 2,
   "metadata": {},
   "outputs": [
    {
     "name": "stdout",
     "output_type": "stream",
     "text": [
      "\n",
      "Shape of Training Samples:  (60000, 28, 28)\n",
      "Shape of Training Labels:  (60000,)\n",
      "\n",
      "Shape of Testing Samples:  (10000, 28, 28)\n",
      "Shape of Testing Labels:  (10000,)\n"
     ]
    }
   ],
   "source": [
    "(X_train, y_train), (X_test, y_test) = keras.datasets.mnist.load_data()\n",
    "\n",
    "# Scale the data\n",
    "X_train = X_train/255.0\n",
    "X_test = X_test/255.0\n",
    "\n",
    "\n",
    "print(\"\\nShape of Training Samples: \", X_train.shape)\n",
    "print(\"Shape of Training Labels: \", y_train.shape)\n",
    "\n",
    "print(\"\\nShape of Testing Samples: \", X_test.shape)\n",
    "print(\"Shape of Testing Labels: \", y_test.shape)"
   ]
  },
  {
   "cell_type": "markdown",
   "metadata": {},
   "source": [
    "# MNIST - Task 2: Compute the Euclidean Distance between an Image and Its Augmented Versions\n",
    "\n",
    "For task 2, we create augmented versions of the same image by distorting it through:\n",
    "- Shifting: left & below\n",
    "- Rotating: 90 degree & 180 degree\n",
    "\n",
    "## Functions for Creating Augmented Images"
   ]
  },
  {
   "cell_type": "code",
   "execution_count": 3,
   "metadata": {},
   "outputs": [],
   "source": [
    "def shift_image(image, dx, dy):\n",
    "    image = image.reshape((28, 28))\n",
    "    shifted_image = shift(image, [dy, dx], cval=0, mode=\"constant\")\n",
    "    return shifted_image.reshape([-1])\n",
    "\n",
    "\n",
    "def rotate_image(image, angle):\n",
    "    image = image.reshape((28, 28))\n",
    "    rotated_image = rotate(image, angle, cval=0, mode=\"constant\", reshape=False)\n",
    "    #rotated_image = rotate(image, angle)\n",
    "    return rotated_image.reshape([-1])"
   ]
  },
  {
   "cell_type": "markdown",
   "metadata": {},
   "source": [
    "## Analyze Similarity Between an Image and Its Augmented Versions\n",
    "\n",
    "We plot the original & the augmented images. Below each image we show its Euclidean distance from the original image."
   ]
  },
  {
   "cell_type": "code",
   "execution_count": 4,
   "metadata": {},
   "outputs": [
    {
     "data": {
      "image/png": "[encoded data removed]",
      "text/plain": [
       "<Figure size 216x216 with 1 Axes>"
      ]
     },
     "metadata": {},
     "output_type": "display_data"
    },
    {
     "data": {
      "image/png": "[encoded data removed]",
      "text/plain": [
       "<Figure size 1008x576 with 4 Axes>"
      ]
     },
     "metadata": {},
     "output_type": "display_data"
    }
   ],
   "source": [
    "# Select an image\n",
    "original_image = X_train[100]\n",
    "\n",
    "distance_original = euclidean_distances(original_image.reshape(1, 784), original_image.reshape(1, 784))\n",
    "\n",
    "# Create two rotated versions of the image\n",
    "rotated_image_1 = rotate_image(original_image, 90)\n",
    "rotated_image_2 = rotate_image(original_image, 180)\n",
    "\n",
    "# Create two shifted versions of the image\n",
    "shifted_image_down = shift_image(original_image, 0, 5)\n",
    "shifted_image_left = shift_image(original_image, -5, 0)\n",
    "\n",
    "\n",
    "# Computed the Euclidean distance of the augmented images from the original image\n",
    "distance_rotated_1 = euclidean_distances(original_image.reshape(1, 784), rotated_image_1.reshape(1, 784))\n",
    "distance_rotated_2 = euclidean_distances(original_image.reshape(1, 784), rotated_image_2.reshape(1, 784))\n",
    "\n",
    "distance_shifted_1 = euclidean_distances(original_image.reshape(1, 784), shifted_image_down.reshape(1, 784))\n",
    "distance_shifted_2 = euclidean_distances(original_image.reshape(1, 784), shifted_image_left.reshape(1, 784))\n",
    "\n",
    "\n",
    "# Plot the original & the augmented images\n",
    "# Below each image we show its Euclidean distance from the original image (top-left).\n",
    "plt.figure(figsize=(3,3))\n",
    "plt.title(\"Original\", fontsize=14)\n",
    "plt.imshow(original_image.reshape(28, 28), interpolation=\"nearest\", cmap=\"Greys\")\n",
    "plt.xlabel(np.round(distance_original[0][0], 2))\n",
    "plt.xticks([])\n",
    "plt.yticks([])\n",
    "plt.show()\n",
    "\n",
    "plt.figure(figsize=(14,8))\n",
    "plt.subplot(141)\n",
    "plt.title(\"Rotated\", fontsize=14)\n",
    "plt.imshow(rotated_image_1.reshape(28, 28), interpolation=\"nearest\", cmap=\"Greys\")\n",
    "plt.xlabel(np.round(distance_rotated_1[0][0], 2))\n",
    "plt.xticks([])\n",
    "plt.yticks([])\n",
    "\n",
    "plt.subplot(142)\n",
    "plt.title(\"Rotated\", fontsize=14)\n",
    "plt.imshow(rotated_image_2.reshape(28, 28), interpolation=\"nearest\", cmap=\"Greys\")\n",
    "plt.xlabel(np.round(distance_rotated_2[0][0], 2))\n",
    "plt.xticks([])\n",
    "plt.yticks([])\n",
    "\n",
    "plt.subplot(143)\n",
    "plt.title(\"Shifted left\", fontsize=14)\n",
    "plt.imshow(shifted_image_left.reshape(28, 28), interpolation=\"nearest\", cmap=\"Greys\")\n",
    "plt.xlabel(np.round(distance_shifted_1[0][0], 2))\n",
    "plt.xticks([])\n",
    "plt.yticks([])\n",
    "\n",
    "plt.subplot(144)\n",
    "plt.title(\"Shifted down\", fontsize=14)\n",
    "plt.imshow(shifted_image_down.reshape(28, 28), interpolation=\"nearest\", cmap=\"Greys\")\n",
    "plt.xlabel(np.round(distance_shifted_2[0][0], 2))\n",
    "plt.xticks([])\n",
    "plt.yticks([])\n",
    "\n",
    "plt.show()"
   ]
  },
  {
   "cell_type": "markdown",
   "metadata": {},
   "source": [
    "## MNIST Task 2 - Observation\n",
    "\n",
    "Observe that the distance between the image of \"5\" (original image) and the augmented versions of it is greater than 9. However, in task 1, we observed that the intra-class distance was smaller than 9. Current task indicates that after augmenting the image, the intra-class distance becomes larger. In other words, the augmented images become dissimilar to the original image when we compare them pixel by pixel."
   ]
  },
  {
   "cell_type": "markdown",
   "metadata": {},
   "source": [
    "# CIFAR-10\n",
    "\n",
    "We directly load the CIFAR-10 dataset using the Keras API:\n",
    "https://keras.io/api/datasets/cifar10/\n",
    "\n",
    "The train set contains 50,000 images, and the test set contains 10,000 images."
   ]
  },
  {
   "cell_type": "code",
   "execution_count": 5,
   "metadata": {},
   "outputs": [
    {
     "name": "stdout",
     "output_type": "stream",
     "text": [
      "\n",
      "Shape of Training Samples:  (50000, 32, 32, 3)\n",
      "Shape of Training Labels:  (50000, 1)\n",
      "\n",
      "Shape of Testing Samples:  (10000, 32, 32, 3)\n",
      "Shape of Testing Labels:  (10000, 1)\n"
     ]
    }
   ],
   "source": [
    "(X_train_cifar, y_train_cifar), (X_test_cifar, y_test_cifar) = keras.datasets.cifar10.load_data()\n",
    "\n",
    "# Scale the data\n",
    "X_train_cifar = X_train_cifar/255.0\n",
    "X_test_cifar = X_test_cifar/255.0\n",
    "\n",
    "print(\"\\nShape of Training Samples: \", X_train_cifar.shape)\n",
    "print(\"Shape of Training Labels: \", y_train_cifar.shape)\n",
    "\n",
    "print(\"\\nShape of Testing Samples: \", X_test_cifar.shape)\n",
    "print(\"Shape of Testing Labels: \", y_test_cifar.shape)"
   ]
  },
  {
   "cell_type": "markdown",
   "metadata": {},
   "source": [
    "## CIFAR-10: Create a List of Class Names"
   ]
  },
  {
   "cell_type": "code",
   "execution_count": 6,
   "metadata": {},
   "outputs": [
    {
     "name": "stdout",
     "output_type": "stream",
     "text": [
      "['airplane', 'automobile', 'bird', 'cat', 'deer', 'dog', 'frog', 'horse', 'ship', 'truck']\n"
     ]
    }
   ],
   "source": [
    "class_names = ['airplane', 'automobile', 'bird', 'cat', 'deer',\n",
    "               'dog', 'frog', 'horse', 'ship', 'truck']\n",
    "\n",
    "print(class_names)"
   ]
  },
  {
   "cell_type": "markdown",
   "metadata": {},
   "source": [
    "# CIFAR-10 - Task 2: Compute the Euclidean Distance between an Image and Its Augmented Versions\n",
    "\n",
    "For task 2, we create augmented versions of the same image by distorting it through:\n",
    "- Shifting: left & below\n",
    "- Rotating: 90 degree & 180 degree\n",
    "\n",
    "## Functions for Creating Augmented Images"
   ]
  },
  {
   "cell_type": "code",
   "execution_count": 7,
   "metadata": {},
   "outputs": [],
   "source": [
    "def shift_image_cifar(image, dx, dy):\n",
    "    image = image.reshape((32, 32, 3))\n",
    "    shifted_image = shift(image, [dy, dx, 0], cval=0, mode=\"constant\")\n",
    "    return shifted_image.reshape([-1])\n",
    "\n",
    "\n",
    "def rotate_image_cifar(image, angle):\n",
    "    image = image.reshape((32, 32, 3))\n",
    "    rotated_image = rotate(image, angle, cval=0, mode=\"constant\", reshape=False)\n",
    "    #rotated_image = rotate(image, angle)\n",
    "    return rotated_image.reshape([-1])"
   ]
  },
  {
   "cell_type": "markdown",
   "metadata": {},
   "source": [
    "## Analyze Similarity Between an Image and Its Augmented Versions\n",
    "\n",
    "We plot the original & the augmented images. Below each image we show its Euclidean distance from the original image."
   ]
  },
  {
   "cell_type": "code",
   "execution_count": 8,
   "metadata": {},
   "outputs": [
    {
     "data": {
      "image/png": "[encoded data removed]",
      "text/plain": [
       "<Figure size 216x216 with 1 Axes>"
      ]
     },
     "metadata": {},
     "output_type": "display_data"
    },
    {
     "data": {
      "image/png": "[encoded data removed]",
      "text/plain": [
       "<Figure size 1008x576 with 4 Axes>"
      ]
     },
     "metadata": {},
     "output_type": "display_data"
    }
   ],
   "source": [
    "# Select an image\n",
    "original_image_cifar = X_train_cifar[1]\n",
    "\n",
    "distance_original_cifar = euclidean_distances(original_image_cifar.reshape(1, 3072), original_image_cifar.reshape(1, 3072))\n",
    "\n",
    "# Create two rotated versions of the image\n",
    "rotated_image_1_cifar = rotate_image_cifar(original_image_cifar, 90)\n",
    "rotated_image_2_cifar = rotate_image_cifar(original_image_cifar, 180)\n",
    "\n",
    "# Create two shifted versions of the image\n",
    "shifted_image_down_cifar = shift_image_cifar(original_image_cifar, 0, 5)\n",
    "shifted_image_left_cifar = shift_image_cifar(original_image_cifar, -5, 0)\n",
    "\n",
    "\n",
    "# Computed the Euclidean distance of the augmented images from the original image\n",
    "distance_rotated_1_cifar = euclidean_distances(original_image_cifar.reshape(1, 3072), rotated_image_1_cifar.reshape(1, 3072))\n",
    "distance_rotated_2_cifar = euclidean_distances(original_image_cifar.reshape(1, 3072), rotated_image_2_cifar.reshape(1, 3072))\n",
    "\n",
    "distance_shifted_1_cifar = euclidean_distances(original_image_cifar.reshape(1, 3072), shifted_image_down_cifar.reshape(1, 3072))\n",
    "distance_shifted_2_cifar = euclidean_distances(original_image_cifar.reshape(1, 3072), shifted_image_left_cifar.reshape(1, 3072))\n",
    "\n",
    "\n",
    "# Plot the original & the augmented images\n",
    "# Below each image we show its Euclidean distance from the original image (top-left)\n",
    "plt.figure(figsize=(3,3))\n",
    "plt.title(\"Original\", fontsize=14)\n",
    "plt.imshow(original_image_cifar.reshape(32, 32, 3), interpolation=\"nearest\", cmap=\"Greys\")\n",
    "plt.xlabel(np.round(distance_original_cifar[0][0], 2))\n",
    "plt.xticks([])\n",
    "plt.yticks([])\n",
    "plt.show()\n",
    "\n",
    "plt.figure(figsize=(14,8))\n",
    "plt.subplot(141)\n",
    "plt.title(\"Rotated\", fontsize=14)\n",
    "plt.imshow(rotated_image_1_cifar.reshape(32, 32, 3), interpolation=\"nearest\", cmap=\"Greys\")\n",
    "plt.xlabel(np.round(distance_rotated_1_cifar[0][0], 2))\n",
    "plt.xticks([])\n",
    "plt.yticks([])\n",
    "\n",
    "plt.subplot(142)\n",
    "plt.title(\"Rotated\", fontsize=14)\n",
    "plt.imshow(rotated_image_2_cifar.reshape(32, 32, 3), interpolation=\"nearest\", cmap=\"Greys\")\n",
    "plt.xlabel(np.round(distance_rotated_2_cifar[0][0], 2))\n",
    "plt.xticks([])\n",
    "plt.yticks([])\n",
    "\n",
    "plt.subplot(143)\n",
    "plt.title(\"Shifted left\", fontsize=14)\n",
    "plt.imshow(shifted_image_left_cifar.reshape(32, 32, 3), interpolation=\"nearest\", cmap=\"Greys\")\n",
    "plt.xlabel(np.round(distance_shifted_1_cifar[0][0], 2))\n",
    "plt.xticks([])\n",
    "plt.yticks([])\n",
    "\n",
    "plt.subplot(144)\n",
    "plt.title(\"Shifted down\", fontsize=14)\n",
    "plt.imshow(shifted_image_down_cifar.reshape(32, 32, 3), interpolation=\"nearest\", cmap=\"Greys\")\n",
    "plt.xlabel(np.round(distance_shifted_2_cifar[0][0], 2))\n",
    "plt.xticks([])\n",
    "plt.yticks([])\n",
    "\n",
    "plt.show()"
   ]
  },
  {
   "cell_type": "markdown",
   "metadata": {},
   "source": [
    "## CIFAR-10 Task 2 - Observation\n",
    "\n",
    "\n",
    "Observe that the distance between the image of \"truck\" (original image) and the augmented versions of it are in the range of 15 to 22. This range is similar to what we observed in task 1. It indicates that there is no significant difference between the original image and its augmented versions. The pixel-wise comparison doesn't reveal the fact that images are distorted or \"different\".\n",
    "\n",
    "### Explanation\n",
    "\n",
    "The dimension of the CIFAR-10 images (i.e., 3072) is significantly larger than that of the MNIST images (i.e., 784). Thus, CIFAR-10 images are more prone to the **curse of dimensionality**: there are no nearest neighbors in high dimension. In this task, the original image and its three augmented versions are equally apart. This is a direct consequence of the high-dimensional pixel-based similarity measure."
   ]
  }
 ],
 "metadata": {
  "kernelspec": {
   "display_name": "Python 3",
   "language": "python",
   "name": "python3"
  },
  "language_info": {
   "codemirror_mode": {
    "name": "ipython",
    "version": 3
   },
   "file_extension": ".py",
   "mimetype": "text/x-python",
   "name": "python",
   "nbconvert_exporter": "python",
   "pygments_lexer": "ipython3",
   "version": "3.7.3"
  }
 },
 "nbformat": 4,
 "nbformat_minor": 2
}
